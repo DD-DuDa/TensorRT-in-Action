{
 "cells": [
  {
   "cell_type": "code",
   "execution_count": 1,
   "id": "0a2bcd16",
   "metadata": {},
   "outputs": [],
   "source": [
    "import os\n",
    "from datetime import datetime as dt\n",
    "from glob import glob\n",
    "\n",
    "# import calibrator\n",
    "import cv2\n",
    "import numpy as np\n",
    "import tensorrt as trt\n",
    "import torch\n",
    "import torch.nn.functional as F\n",
    "from cuda import cudart\n",
    "from torch.autograd import Variable"
   ]
  },
  {
   "cell_type": "markdown",
   "id": "5402dfe6",
   "metadata": {},
   "source": [
    "# 1. 数据处理"
   ]
  },
  {
   "cell_type": "markdown",
   "id": "f75383c9",
   "metadata": {},
   "source": [
    "下载 MNIST 图片"
   ]
  },
  {
   "cell_type": "code",
   "execution_count": 11,
   "id": "57e6b409",
   "metadata": {
    "scrolled": true
   },
   "outputs": [
    {
     "name": "stdout",
     "output_type": "stream",
     "text": [
      "--2023-05-27 01:48:37--  http://yann.lecun.com/exdb/mnist/train-images-idx3-ubyte.gz\n",
      "Resolving yann.lecun.com (yann.lecun.com)... 172.67.171.76, 104.21.29.36, 2606:4700:3036::ac43:ab4c, ...\n",
      "Connecting to yann.lecun.com (yann.lecun.com)|172.67.171.76|:80... connected.\n",
      "HTTP request sent, awaiting response... 200 OK\n",
      "Length: 9912422 (9.5M) [application/x-gzip]\n",
      "Saving to: ‘./MNIST/train-images-idx3-ubyte.gz’\n",
      "\n",
      "./MNIST/train-image 100%[===================>]   9.45M  2.34MB/s    in 4.0s    \n",
      "\n",
      "2023-05-27 01:48:42 (2.34 MB/s) - ‘./MNIST/train-images-idx3-ubyte.gz’ saved [9912422/9912422]\n",
      "\n",
      "--2023-05-27 01:48:42--  http://yann.lecun.com/exdb/mnist/train-labels-idx1-ubyte.gz\n",
      "Resolving yann.lecun.com (yann.lecun.com)... 104.21.29.36, 172.67.171.76, 2606:4700:3034::6815:1d24, ...\n",
      "Connecting to yann.lecun.com (yann.lecun.com)|104.21.29.36|:80... connected.\n",
      "HTTP request sent, awaiting response... 200 OK\n",
      "Length: 28881 (28K) [application/x-gzip]\n",
      "Saving to: ‘./MNIST/train-labels-idx1-ubyte.gz’\n",
      "\n",
      "./MNIST/train-label 100%[===================>]  28.20K  --.-KB/s    in 0.02s   \n",
      "\n",
      "2023-05-27 01:48:43 (1.40 MB/s) - ‘./MNIST/train-labels-idx1-ubyte.gz’ saved [28881/28881]\n",
      "\n",
      "--2023-05-27 01:48:43--  http://yann.lecun.com/exdb/mnist/t10k-images-idx3-ubyte.gz\n",
      "Resolving yann.lecun.com (yann.lecun.com)... 104.21.29.36, 172.67.171.76, 2606:4700:3034::6815:1d24, ...\n",
      "Connecting to yann.lecun.com (yann.lecun.com)|104.21.29.36|:80... connected.\n",
      "HTTP request sent, awaiting response... 200 OK\n",
      "Length: 1648877 (1.6M) [application/x-gzip]\n",
      "Saving to: ‘./MNIST/t10k-images-idx3-ubyte.gz’\n",
      "\n",
      "./MNIST/t10k-images 100%[===================>]   1.57M  1.21MB/s    in 1.3s    \n",
      "\n",
      "2023-05-27 01:48:44 (1.21 MB/s) - ‘./MNIST/t10k-images-idx3-ubyte.gz’ saved [1648877/1648877]\n",
      "\n",
      "--2023-05-27 01:48:44--  http://yann.lecun.com/exdb/mnist/t10k-labels-idx1-ubyte.gz\n",
      "Resolving yann.lecun.com (yann.lecun.com)... 172.67.171.76, 104.21.29.36, 2606:4700:3036::ac43:ab4c, ...\n",
      "Connecting to yann.lecun.com (yann.lecun.com)|172.67.171.76|:80... connected.\n",
      "HTTP request sent, awaiting response... 200 OK\n",
      "Length: 4542 (4.4K) [application/x-gzip]\n",
      "Saving to: ‘./MNIST/t10k-labels-idx1-ubyte.gz’\n",
      "\n",
      "./MNIST/t10k-labels 100%[===================>]   4.44K  --.-KB/s    in 0s      \n",
      "\n",
      "2023-05-27 01:48:45 (378 MB/s) - ‘./MNIST/t10k-labels-idx1-ubyte.gz’ saved [4542/4542]\n",
      "\n"
     ]
    }
   ],
   "source": [
    "! bash ../data/download_mnist.sh"
   ]
  },
  {
   "cell_type": "markdown",
   "id": "ea093aa7",
   "metadata": {},
   "source": [
    "导入 LoadMnistData ，提取已下载好的 .gz 文件转换成图片"
   ]
  },
  {
   "cell_type": "code",
   "execution_count": 13,
   "id": "e5f4584c",
   "metadata": {},
   "outputs": [
    {
     "name": "stdout",
     "output_type": "stream",
     "text": [
      "Extracting ../data/MNIST/train-images-idx3-ubyte.gz\n",
      "Extracting ../data/MNIST/train-labels-idx1-ubyte.gz\n",
      "Extracting ../data/MNIST/t10k-images-idx3-ubyte.gz\n",
      "Extracting ../data/MNIST/t10k-labels-idx1-ubyte.gz\n"
     ]
    }
   ],
   "source": [
    "import LoadMnistData\n",
    "\n",
    "nTrain = 6000 # <= 60000\n",
    "nTest = 1000 # <= 10000\n",
    "\n",
    "mnist = LoadMnistData.MnistData(\"../data/MNIST/\", isOneHot=False)\n",
    "mnist.saveImage(nTrain, \"../data/MNIST/train/\", True)  # 60000 images in total\n",
    "mnist.saveImage(nTest, \"../data/MNIST/test/\", False)  # 10000 images in total"
   ]
  },
  {
   "cell_type": "markdown",
   "id": "c1803aaf",
   "metadata": {},
   "source": [
    "# 2. 创建并训练模型"
   ]
  },
  {
   "cell_type": "code",
   "execution_count": 4,
   "id": "f822d331",
   "metadata": {},
   "outputs": [],
   "source": [
    "# 相关参数\n",
    "BATCH_SIZE = 128\n",
    "DATA_PATH = \"../data/MNIST/\""
   ]
  },
  {
   "cell_type": "markdown",
   "id": "576b757d",
   "metadata": {},
   "source": [
    "注意，这里的模型输出，y 为输出节点的值，z 为对应预测的值 (0,1,...9)"
   ]
  },
  {
   "cell_type": "code",
   "execution_count": 5,
   "id": "b6064acd",
   "metadata": {},
   "outputs": [],
   "source": [
    "# 构造模型\n",
    "class Net(torch.nn.Module):\n",
    "\n",
    "    def __init__(self):\n",
    "        super(Net, self).__init__()\n",
    "        self.conv1 = torch.nn.Conv2d(1, 32, (5, 5), padding=(2, 2), bias=True)\n",
    "        self.conv2 = torch.nn.Conv2d(32, 64, (5, 5), padding=(2, 2), bias=True)\n",
    "        self.fc1 = torch.nn.Linear(64 * 7 * 7, 1024, bias=True)\n",
    "        self.fc2 = torch.nn.Linear(1024, 10, bias=True)\n",
    "\n",
    "    def forward(self, x):\n",
    "        x = F.max_pool2d(F.relu(self.conv1(x)), (2, 2))\n",
    "        x = F.max_pool2d(F.relu(self.conv2(x)), (2, 2))\n",
    "        x = x.reshape(-1, 64 * 7 * 7)\n",
    "        x = F.relu(self.fc1(x))\n",
    "        y = self.fc2(x)\n",
    "        z = F.softmax(y, dim=1)\n",
    "        z = torch.argmax(z, dim=1)\n",
    "        return y, z"
   ]
  },
  {
   "cell_type": "code",
   "execution_count": 6,
   "id": "3d59b06d",
   "metadata": {},
   "outputs": [],
   "source": [
    "# 构建训练集\n",
    "class MyData(torch.utils.data.Dataset):\n",
    "\n",
    "    def __init__(self, datapath, isTrain=True):\n",
    "        trainFileList = sorted(glob(datapath + \"train/*.jpg\"))\n",
    "        testFileList = sorted(glob(datapath + \"test/*.jpg\"))\n",
    "        if isTrain:\n",
    "            self.data = trainFileList\n",
    "        else:\n",
    "            self.data = testFileList\n",
    "            \n",
    "        self.nHeight = 28\n",
    "        self.nWidth = 28\n",
    "\n",
    "    def __getitem__(self, index):\n",
    "        imageName = self.data[index]\n",
    "        data = cv2.imread(imageName, cv2.IMREAD_GRAYSCALE)\n",
    "        label = np.zeros(10, dtype=np.float32)\n",
    "        index = int(imageName[-7])\n",
    "        label[index] = 1\n",
    "        return torch.from_numpy(data.reshape(1, self.nHeight, self.nWidth).astype(np.float32)), torch.from_numpy(label)\n",
    "\n",
    "    def __len__(self):\n",
    "        return len(self.data)"
   ]
  },
  {
   "cell_type": "code",
   "execution_count": 7,
   "id": "cda36ae9",
   "metadata": {},
   "outputs": [],
   "source": [
    "model = Net().cuda()\n",
    "ceLoss = torch.nn.CrossEntropyLoss()\n",
    "opt = torch.optim.Adam(model.parameters(), lr=0.001)\n",
    "\n",
    "trainDataset = MyData(datapath = DATA_PATH, isTrain = True)\n",
    "testDataset = MyData(datapath = DATA_PATH, isTrain = False)\n",
    "trainLoader = torch.utils.data.DataLoader(dataset=trainDataset, batch_size=BATCH_SIZE, shuffle=True)\n",
    "testLoader = torch.utils.data.DataLoader(dataset=testDataset, batch_size=BATCH_SIZE, shuffle=False)"
   ]
  },
  {
   "cell_type": "code",
   "execution_count": 8,
   "id": "2da814ad",
   "metadata": {},
   "outputs": [],
   "source": [
    "def train(model, trainLoader, testLoader, opt, ceLoss, epoch):\n",
    "    for epoch in range(epoch):\n",
    "        for xTrain, yTrain in trainLoader:\n",
    "            xTrain = Variable(xTrain).cuda()\n",
    "            yTrain = Variable(yTrain).cuda()\n",
    "            opt.zero_grad()\n",
    "            y_, z = model(xTrain)\n",
    "            loss = ceLoss(y_, yTrain)\n",
    "            loss.backward()\n",
    "            opt.step()\n",
    "\n",
    "        with torch.no_grad():\n",
    "            acc = 0\n",
    "            n = 0\n",
    "            for xTest, yTest in testLoader:\n",
    "                xTest = Variable(xTest).cuda()\n",
    "                yTest = Variable(yTest).cuda()\n",
    "                y_, z = model(xTest)\n",
    "                acc += torch.sum(z == torch.matmul(yTest, torch.Tensor([0, 1, 2, 3, 4, 5, 6, 7, 8, 9]).to(\"cuda:0\"))).cpu().numpy()\n",
    "                n += xTest.shape[0]\n",
    "            print(\"%s, epoch %2d, loss = %f, test acc = %f\" % (dt.now(), epoch + 1, loss.data, acc / n))\n",
    "\n",
    "    print(\"Succeeded building model in pyTorch!\")\n",
    "    print(\"test acc = %f\" % (acc / n))"
   ]
  },
  {
   "cell_type": "code",
   "execution_count": 9,
   "id": "80957695",
   "metadata": {
    "scrolled": true
   },
   "outputs": [
    {
     "name": "stdout",
     "output_type": "stream",
     "text": [
      "2023-05-26 13:09:19.062010, epoch  1, loss = 0.436704, test acc = 0.875000\n",
      "2023-05-26 13:09:19.417785, epoch  2, loss = 0.158914, test acc = 0.917000\n",
      "2023-05-26 13:09:19.752828, epoch  3, loss = 0.223163, test acc = 0.927000\n",
      "2023-05-26 13:09:20.078149, epoch  4, loss = 0.114237, test acc = 0.927000\n",
      "2023-05-26 13:09:20.411632, epoch  5, loss = 0.040407, test acc = 0.940000\n",
      "2023-05-26 13:09:20.738097, epoch  6, loss = 0.028230, test acc = 0.950000\n",
      "2023-05-26 13:09:21.077965, epoch  7, loss = 0.043541, test acc = 0.949000\n",
      "2023-05-26 13:09:21.414767, epoch  8, loss = 0.039208, test acc = 0.956000\n",
      "2023-05-26 13:09:21.748811, epoch  9, loss = 0.007606, test acc = 0.948000\n",
      "2023-05-26 13:09:22.075274, epoch 10, loss = 0.039192, test acc = 0.951000\n",
      "2023-05-26 13:09:22.406398, epoch 11, loss = 0.015826, test acc = 0.955000\n",
      "2023-05-26 13:09:22.768756, epoch 12, loss = 0.005088, test acc = 0.953000\n",
      "2023-05-26 13:09:23.115798, epoch 13, loss = 0.047944, test acc = 0.946000\n",
      "2023-05-26 13:09:23.461118, epoch 14, loss = 0.010446, test acc = 0.953000\n",
      "2023-05-26 13:09:23.782921, epoch 15, loss = 0.002213, test acc = 0.955000\n",
      "2023-05-26 13:09:24.092917, epoch 16, loss = 0.001580, test acc = 0.956000\n",
      "2023-05-26 13:09:24.414697, epoch 17, loss = 0.000749, test acc = 0.953000\n",
      "2023-05-26 13:09:24.758127, epoch 18, loss = 0.000158, test acc = 0.958000\n",
      "2023-05-26 13:09:25.089271, epoch 19, loss = 0.001441, test acc = 0.953000\n",
      "2023-05-26 13:09:25.428030, epoch 20, loss = 0.001377, test acc = 0.958000\n",
      "2023-05-26 13:09:25.779221, epoch 21, loss = 0.000077, test acc = 0.963000\n",
      "2023-05-26 13:09:26.131666, epoch 22, loss = 0.000111, test acc = 0.963000\n",
      "2023-05-26 13:09:26.487399, epoch 23, loss = 0.000267, test acc = 0.963000\n",
      "2023-05-26 13:09:26.801576, epoch 24, loss = 0.000184, test acc = 0.963000\n",
      "2023-05-26 13:09:27.147383, epoch 25, loss = 0.000092, test acc = 0.963000\n",
      "Succeeded building model in pyTorch!\n",
      "test acc = 0.963000\n"
     ]
    }
   ],
   "source": [
    "train(model, trainLoader, testLoader, opt, ceLoss, 25)"
   ]
  },
  {
   "cell_type": "markdown",
   "id": "664e1317",
   "metadata": {},
   "source": [
    "# 3. 模型导出 ONNX\n"
   ]
  },
  {
   "cell_type": "markdown",
   "id": "65a0c16d",
   "metadata": {},
   "source": [
    "`model`：要导出的 PyTorch 模型。\n",
    "\n",
    "`torch.randn(1, 1, nHeight, nWidth, device=\"cuda\")`：模型的输入示例。这里创建了一个随机的 1 x 1 x 28 x 28 张量作为输入，并将其放在 GPU（CUDA 设备）上。\n",
    "\n",
    "`onnxFile`：要保存 ONNX 文件的路径。\n",
    "\n",
    "`input_names=[\"x\"]`：指定模型输入的名称，用于在 ONNX 文件中标识输入节点。\n",
    "\n",
    "`output_names=[\"y\", \"z\"]`：指定模型输出的名称，用于在 ONNX 文件中标识输出节点。\n",
    "\n",
    "`do_constant_folding=True`：启用常量折叠优化。这可以简化计算图，提高推理性能。\n",
    "\n",
    "`verbose=True`：打印详细的模型导出信息。\n",
    "\n",
    "`keep_initializers_as_inputs=True`：保留模型的初始化参数作为输入。这有助于在后续的优化过程中提高模型的兼容性。\n",
    "\n",
    "`opset_version=12`：指定 ONNX 的操作集版本。这可以确保导出的 ONNX 模型与其他框架和工具的兼容性。\n",
    "\n",
    "`dynamic_axes={\"x\": {0: \"nBatchSize\"}, \"z\": {0: \"nBatchSize\"}}`：指定模型的动态维度。这里设置输入节点 \"x\" 和输出节点 \"z\" 的 batch 维度（第 0 维）为动态维度。"
   ]
  },
  {
   "cell_type": "code",
   "execution_count": 10,
   "id": "9c64b00d",
   "metadata": {
    "scrolled": true
   },
   "outputs": [
    {
     "name": "stdout",
     "output_type": "stream",
     "text": [
      "Exported graph: graph(%x : Float(*, 1, 28, 28, strides=[784, 784, 28, 1], requires_grad=0, device=cuda:0),\n",
      "      %conv1.weight : Float(32, 1, 5, 5, strides=[25, 25, 5, 1], requires_grad=1, device=cuda:0),\n",
      "      %conv1.bias : Float(32, strides=[1], requires_grad=1, device=cuda:0),\n",
      "      %conv2.weight : Float(64, 32, 5, 5, strides=[800, 25, 5, 1], requires_grad=1, device=cuda:0),\n",
      "      %conv2.bias : Float(64, strides=[1], requires_grad=1, device=cuda:0),\n",
      "      %fc1.weight : Float(1024, 3136, strides=[3136, 1], requires_grad=1, device=cuda:0),\n",
      "      %fc1.bias : Float(1024, strides=[1], requires_grad=1, device=cuda:0),\n",
      "      %fc2.weight : Float(10, 1024, strides=[1024, 1], requires_grad=1, device=cuda:0),\n",
      "      %fc2.bias : Float(10, strides=[1], requires_grad=1, device=cuda:0)):\n",
      "  %/conv1/Conv_output_0 : Float(*, 32, 28, 28, strides=[25088, 784, 28, 1], requires_grad=0, device=cuda:0) = onnx::Conv[dilations=[1, 1], group=1, kernel_shape=[5, 5], pads=[2, 2, 2, 2], strides=[1, 1], onnx_name=\"/conv1/Conv\"](%x, %conv1.weight, %conv1.bias), scope: __main__.Net::/torch.nn.modules.conv.Conv2d::conv1 # /usr/local/lib/python3.8/dist-packages/torch/nn/modules/conv.py:459:0\n",
      "  %/Relu_output_0 : Float(*, 32, 28, 28, strides=[25088, 784, 28, 1], requires_grad=1, device=cuda:0) = onnx::Relu[onnx_name=\"/Relu\"](%/conv1/Conv_output_0), scope: __main__.Net:: # /usr/local/lib/python3.8/dist-packages/torch/nn/functional.py:1457:0\n",
      "  %/MaxPool_output_0 : Float(*, 32, 14, 14, strides=[6272, 196, 14, 1], requires_grad=1, device=cuda:0) = onnx::MaxPool[ceil_mode=0, kernel_shape=[2, 2], pads=[0, 0, 0, 0], strides=[2, 2], onnx_name=\"/MaxPool\"](%/Relu_output_0), scope: __main__.Net:: # /usr/local/lib/python3.8/dist-packages/torch/nn/functional.py:782:0\n",
      "  %/conv2/Conv_output_0 : Float(*, 64, 14, 14, strides=[12544, 196, 14, 1], requires_grad=0, device=cuda:0) = onnx::Conv[dilations=[1, 1], group=1, kernel_shape=[5, 5], pads=[2, 2, 2, 2], strides=[1, 1], onnx_name=\"/conv2/Conv\"](%/MaxPool_output_0, %conv2.weight, %conv2.bias), scope: __main__.Net::/torch.nn.modules.conv.Conv2d::conv2 # /usr/local/lib/python3.8/dist-packages/torch/nn/modules/conv.py:459:0\n",
      "  %/Relu_1_output_0 : Float(*, 64, 14, 14, strides=[12544, 196, 14, 1], requires_grad=1, device=cuda:0) = onnx::Relu[onnx_name=\"/Relu_1\"](%/conv2/Conv_output_0), scope: __main__.Net:: # /usr/local/lib/python3.8/dist-packages/torch/nn/functional.py:1457:0\n",
      "  %/MaxPool_1_output_0 : Float(*, 64, 7, 7, strides=[3136, 49, 7, 1], requires_grad=1, device=cuda:0) = onnx::MaxPool[ceil_mode=0, kernel_shape=[2, 2], pads=[0, 0, 0, 0], strides=[2, 2], onnx_name=\"/MaxPool_1\"](%/Relu_1_output_0), scope: __main__.Net:: # /usr/local/lib/python3.8/dist-packages/torch/nn/functional.py:782:0\n",
      "  %/Constant_output_0 : Long(2, strides=[1], device=cpu) = onnx::Constant[value=   -1  3136 [ CPULongType{2} ], onnx_name=\"/Constant\"](), scope: __main__.Net:: # /tmp/ipykernel_8836/37387624.py:14:0\n",
      "  %/Reshape_output_0 : Float(*, *, strides=[3136, 1], requires_grad=1, device=cuda:0) = onnx::Reshape[onnx_name=\"/Reshape\"](%/MaxPool_1_output_0, %/Constant_output_0), scope: __main__.Net:: # /tmp/ipykernel_8836/37387624.py:14:0\n",
      "  %/fc1/Gemm_output_0 : Float(*, 1024, strides=[1024, 1], requires_grad=1, device=cuda:0) = onnx::Gemm[alpha=1., beta=1., transB=1, onnx_name=\"/fc1/Gemm\"](%/Reshape_output_0, %fc1.weight, %fc1.bias), scope: __main__.Net::/torch.nn.modules.linear.Linear::fc1 # /usr/local/lib/python3.8/dist-packages/torch/nn/modules/linear.py:114:0\n",
      "  %/Relu_2_output_0 : Float(*, 1024, strides=[1024, 1], requires_grad=1, device=cuda:0) = onnx::Relu[onnx_name=\"/Relu_2\"](%/fc1/Gemm_output_0), scope: __main__.Net:: # /usr/local/lib/python3.8/dist-packages/torch/nn/functional.py:1457:0\n",
      "  %y : Float(*, 10, strides=[10, 1], requires_grad=1, device=cuda:0) = onnx::Gemm[alpha=1., beta=1., transB=1, onnx_name=\"/fc2/Gemm\"](%/Relu_2_output_0, %fc2.weight, %fc2.bias), scope: __main__.Net::/torch.nn.modules.linear.Linear::fc2 # /usr/local/lib/python3.8/dist-packages/torch/nn/modules/linear.py:114:0\n",
      "  %/Softmax_output_0 : Float(*, 10, strides=[10, 1], requires_grad=1, device=cuda:0) = onnx::Softmax[axis=1, onnx_name=\"/Softmax\"](%y), scope: __main__.Net:: # /usr/local/lib/python3.8/dist-packages/torch/nn/functional.py:1843:0\n",
      "  %z : Long(*, strides=[1], requires_grad=0, device=cuda:0) = onnx::ArgMax[axis=1, keepdims=0, select_last_index=0, onnx_name=\"/ArgMax\"](%/Softmax_output_0), scope: __main__.Net:: # /tmp/ipykernel_8836/37387624.py:18:0\n",
      "  return (%y, %z)\n",
      "\n",
      "=========== Diagnostic Run torch.onnx.export version 2.1.0a0+fe05266 ===========\n",
      "verbose: False, log level: Level.ERROR\n",
      "======================= 0 NONE 0 NOTE 0 WARNING 0 ERROR ========================\n",
      "\n",
      "Succeeded converting model into ONNX!\n"
     ]
    }
   ],
   "source": [
    "nHeight = 28\n",
    "nWidth = 28\n",
    "onnxFile = \"./model.onnx\"\n",
    "trtFile = \"./model.engine\"\n",
    "\n",
    "torch.onnx.export(model, torch.randn(1, 1, nHeight, nWidth, device=\"cuda\"), onnxFile, input_names=[\"x\"], output_names=[\"y\", \"z\"], do_constant_folding=True, verbose=True, keep_initializers_as_inputs=True, opset_version=12, dynamic_axes={\"x\": {0: \"nBatchSize\"}, \"z\": {0: \"nBatchSize\"}})\n",
    "print(\"Succeeded converting model into ONNX!\")"
   ]
  }
 ],
 "metadata": {
  "kernelspec": {
   "display_name": "Python 3 (ipykernel)",
   "language": "python",
   "name": "python3"
  },
  "language_info": {
   "codemirror_mode": {
    "name": "ipython",
    "version": 3
   },
   "file_extension": ".py",
   "mimetype": "text/x-python",
   "name": "python",
   "nbconvert_exporter": "python",
   "pygments_lexer": "ipython3",
   "version": "3.8.10"
  }
 },
 "nbformat": 4,
 "nbformat_minor": 5
}
