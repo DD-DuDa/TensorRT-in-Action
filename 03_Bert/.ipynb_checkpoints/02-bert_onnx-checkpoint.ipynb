{
 "cells": [
  {
   "cell_type": "code",
   "execution_count": 1,
   "id": "0ef3c130",
   "metadata": {},
   "outputs": [
    {
     "name": "stderr",
     "output_type": "stream",
     "text": [
      "/usr/local/lib/python3.8/dist-packages/tqdm/auto.py:21: TqdmWarning: IProgress not found. Please update jupyter and ipywidgets. See https://ipywidgets.readthedocs.io/en/stable/user_install.html\n",
      "  from .autonotebook import tqdm as notebook_tqdm\n"
     ]
    }
   ],
   "source": [
    "import transformers\n",
    "from transformers import AutoTokenizer\n",
    "from datasets import load_dataset, load_metric\n",
    "from transformers import AutoModelForQuestionAnswering, TrainingArguments, Trainer\n",
    "from transformers import default_data_collator\n",
    "import torch\n",
    "from torch.utils.data import DataLoader\n",
    "import os\n",
    "# os.environ[\"CUDA_VISIBLE_DEVICES\"] = \"1\""
   ]
  },
  {
   "cell_type": "code",
   "execution_count": 2,
   "id": "bc3f6d06",
   "metadata": {},
   "outputs": [],
   "source": [
    "model_checkpoint = \"distilbert-base-uncased-distilled-squad\"\n",
    "output_dir = \"./onnx\""
   ]
  },
  {
   "cell_type": "markdown",
   "id": "ec7f9b18",
   "metadata": {},
   "source": [
    "## 导入 squad 数据集"
   ]
  },
  {
   "cell_type": "code",
   "execution_count": 3,
   "id": "8459eec7",
   "metadata": {},
   "outputs": [
    {
     "name": "stderr",
     "output_type": "stream",
     "text": [
      "Found cached dataset squad (/root/.cache/huggingface/datasets/squad/plain_text/1.0.0/d6ec3ceb99ca480ce37cdd35555d6cb2511d223b9150cce08a837ef62ffea453)\n",
      "100%|██████████████████████████████████████████████████████████████████████████████| 2/2 [00:00<00:00, 120.85it/s]\n"
     ]
    }
   ],
   "source": [
    "squad_v2 = False\n",
    "datasets = load_dataset(\"squad_v2\" if squad_v2 else \"squad\")\n",
    "batch_size = 1"
   ]
  },
  {
   "cell_type": "markdown",
   "id": "bb1125ad",
   "metadata": {},
   "source": [
    "## 导入 tokenizer 和 model"
   ]
  },
  {
   "cell_type": "code",
   "execution_count": 4,
   "id": "b1273431",
   "metadata": {},
   "outputs": [],
   "source": [
    "tokenizer = AutoTokenizer.from_pretrained(model_checkpoint)\n",
    "model = AutoModelForQuestionAnswering.from_pretrained(\"/work/ckpts/distilbert-base-uncased-distilled-squad\")"
   ]
  },
  {
   "cell_type": "markdown",
   "id": "12a2c0ed",
   "metadata": {},
   "source": [
    "## squad 数据处理"
   ]
  },
  {
   "cell_type": "code",
   "execution_count": 5,
   "id": "66e6fd84",
   "metadata": {},
   "outputs": [],
   "source": [
    "max_length = 384 # 输入数据的最大长度\n",
    "doc_stride = 128 # 当切分时，重叠的长度\n",
    "pad_on_right = tokenizer.padding_side == \"right\" # 考虑到可能 “context” 出现在左边的情况，一般在右边"
   ]
  },
  {
   "cell_type": "markdown",
   "id": "6b94a42a",
   "metadata": {},
   "source": [
    "### eval_dataset"
   ]
  },
  {
   "cell_type": "code",
   "execution_count": 6,
   "id": "a3880624",
   "metadata": {},
   "outputs": [],
   "source": [
    "def prepare_validation_features(examples):\n",
    "    # Some of the questions have lots of whitespace on the left, which is not useful and will make the\n",
    "    # truncation of the context fail (the tokenized question will take a lots of space). So we remove that\n",
    "    # left whitespace\n",
    "    examples[\"question\"] = [q.lstrip() for q in examples[\"question\"]]\n",
    "\n",
    "    # Tokenize our examples with truncation and maybe padding, but keep the overflows using a stride. This results\n",
    "    # in one example possible giving several features when a context is long, each of those features having a\n",
    "    # context that overlaps a bit the context of the previous feature.\n",
    "    tokenized_examples = tokenizer(\n",
    "        examples[\"question\" if pad_on_right else \"context\"],\n",
    "        examples[\"context\" if pad_on_right else \"question\"],\n",
    "        truncation=\"only_second\" if pad_on_right else \"only_first\",\n",
    "        max_length=max_length,\n",
    "        stride=doc_stride,\n",
    "        return_overflowing_tokens=True,\n",
    "        return_offsets_mapping=True,\n",
    "        padding=\"max_length\",\n",
    "    )\n",
    "\n",
    "    # Since one example might give us several features if it has a long context, we need a map from a feature to\n",
    "    # its corresponding example. This key gives us just that.\n",
    "    sample_mapping = tokenized_examples.pop(\"overflow_to_sample_mapping\")\n",
    "\n",
    "    # We keep the example_id that gave us this feature and we will store the offset mappings.\n",
    "    tokenized_examples[\"example_id\"] = []\n",
    "\n",
    "    for i in range(len(tokenized_examples[\"input_ids\"])):\n",
    "        # Grab the sequence corresponding to that example (to know what is the context and what is the question).\n",
    "        sequence_ids = tokenized_examples.sequence_ids(i)\n",
    "        context_index = 1 if pad_on_right else 0\n",
    "\n",
    "        # One example can give several spans, this is the index of the example containing this span of text.\n",
    "        sample_index = sample_mapping[i]\n",
    "        tokenized_examples[\"example_id\"].append(examples[\"id\"][sample_index])\n",
    "\n",
    "        # Set to None the offset_mapping that are not part of the context so it's easy to determine if a token\n",
    "        # position is part of the context or not.\n",
    "        tokenized_examples[\"offset_mapping\"][i] = [\n",
    "            (o if sequence_ids[k] == context_index else None)\n",
    "            for k, o in enumerate(tokenized_examples[\"offset_mapping\"][i])\n",
    "        ]\n",
    "\n",
    "    return tokenized_examples"
   ]
  },
  {
   "cell_type": "code",
   "execution_count": 7,
   "id": "d8d5689c",
   "metadata": {},
   "outputs": [
    {
     "name": "stderr",
     "output_type": "stream",
     "text": [
      "Loading cached processed dataset at /root/.cache/huggingface/datasets/squad/plain_text/1.0.0/d6ec3ceb99ca480ce37cdd35555d6cb2511d223b9150cce08a837ef62ffea453/cache-ef22020a0f067642.arrow\n"
     ]
    }
   ],
   "source": [
    "eval_dataset = datasets[\"validation\"].map(\n",
    "    prepare_validation_features,\n",
    "    batched=True,\n",
    "    remove_columns=datasets[\"validation\"].column_names\n",
    ")\n",
    "\n",
    "model_name = model_checkpoint.split(\"/\")[-1]\n",
    "args = TrainingArguments(\n",
    "    f\"{model_name}-squad\",\n",
    "    evaluation_strategy = \"epoch\",\n",
    "    learning_rate=2e-5,\n",
    "    per_device_train_batch_size=batch_size,\n",
    "    per_device_eval_batch_size=batch_size,\n",
    "    num_train_epochs=3,\n",
    "    weight_decay=0.01,\n",
    ")\n",
    "\n",
    "data_collator = default_data_collator\n",
    "\n",
    "trainer = Trainer(\n",
    "    model,\n",
    "    args,\n",
    "    train_dataset=None,\n",
    "    eval_dataset=eval_dataset,\n",
    "    data_collator=data_collator,\n",
    "    tokenizer=tokenizer,\n",
    ")"
   ]
  },
  {
   "cell_type": "code",
   "execution_count": 8,
   "id": "d784653e",
   "metadata": {},
   "outputs": [],
   "source": [
    "eval_dataset = trainer.eval_dataset\n",
    "eval_dataloader = trainer.get_eval_dataloader(eval_dataset)"
   ]
  },
  {
   "cell_type": "markdown",
   "id": "1f184c3c",
   "metadata": {},
   "source": [
    "## 导出 ONNX"
   ]
  },
  {
   "cell_type": "code",
   "execution_count": 19,
   "id": "9f73b943",
   "metadata": {},
   "outputs": [],
   "source": [
    "batch = next(iter(eval_dataloader))\n",
    "\n",
    "device = torch.device(\"cuda\" if torch.cuda.is_available() else \"cpu\")\n",
    "\n",
    "# convert to tuple\n",
    "input_tuple = tuple(v[0].unsqueeze(0).to(device) for k, v in batch.items())\n",
    "\n",
    "model = model.to(device)\n",
    "model.eval()\n",
    "model.float()\n",
    "model_to_save = model.module if hasattr(model, \"module\") else model"
   ]
  },
  {
   "cell_type": "code",
   "execution_count": 20,
   "id": "6b319e04",
   "metadata": {},
   "outputs": [
    {
     "name": "stdout",
     "output_type": "stream",
     "text": [
      "exporting model to ./distilbert-squad.onnx\n",
      "=========== Diagnostic Run torch.onnx.export version 2.1.0a0+fe05266 ===========\n",
      "verbose: False, log level: Level.ERROR\n",
      "======================= 0 NONE 0 NOTE 0 WARNING 0 ERROR ========================\n",
      "\n",
      "onnx export finished\n"
     ]
    }
   ],
   "source": [
    "output_model_file = os.path.join(output_dir, \"distilbert-squad.onnx\")\n",
    "print(f\"exporting model to {output_model_file}\")\n",
    "\n",
    "axes = {0: \"batch_size\", 1: \"seq_len\"}\n",
    "torch.onnx.export(\n",
    "    model_to_save,\n",
    "    input_tuple,\n",
    "    output_model_file,\n",
    "    export_params=True,\n",
    "    opset_version=13,\n",
    "    do_constant_folding=True,\n",
    "    input_names=[\"input_ids\", \"attention_mask\", \"token_type_ids\"],\n",
    "    output_names=[\"output_start_logits\", \"output_end_logits\"],\n",
    "    dynamic_axes={\n",
    "        \"input_ids\": axes,\n",
    "        \"attention_mask\": axes,\n",
    "        \"token_type_ids\": axes,\n",
    "        \"output_start_logits\": axes,\n",
    "        \"output_end_logits\": axes,\n",
    "    },\n",
    "    verbose=True,\n",
    ")\n",
    "\n",
    "print(\"onnx export finished\")"
   ]
  },
  {
   "cell_type": "code",
   "execution_count": null,
   "id": "49fde211",
   "metadata": {},
   "outputs": [],
   "source": []
  }
 ],
 "metadata": {
  "kernelspec": {
   "display_name": "Python 3 (ipykernel)",
   "language": "python",
   "name": "python3"
  },
  "language_info": {
   "codemirror_mode": {
    "name": "ipython",
    "version": 3
   },
   "file_extension": ".py",
   "mimetype": "text/x-python",
   "name": "python",
   "nbconvert_exporter": "python",
   "pygments_lexer": "ipython3",
   "version": "3.8.10"
  }
 },
 "nbformat": 4,
 "nbformat_minor": 5
}
